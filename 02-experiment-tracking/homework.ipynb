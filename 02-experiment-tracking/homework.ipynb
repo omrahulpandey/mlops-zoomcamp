{
 "cells": [
  {
   "cell_type": "markdown",
   "id": "63f37889",
   "metadata": {},
   "source": [
    "# Homework  02-experiment-tracking"
   ]
  },
  {
   "cell_type": "markdown",
   "id": "6bbc850d",
   "metadata": {},
   "source": [
    "#### Q1. Version of mlflow installed."
   ]
  },
  {
   "cell_type": "code",
   "execution_count": 3,
   "id": "260beea2",
   "metadata": {},
   "outputs": [
    {
     "name": "stdout",
     "output_type": "stream",
     "text": [
      "mlflow, version 2.13.0\r\n"
     ]
    }
   ],
   "source": [
    "!mlflow --version"
   ]
  },
  {
   "cell_type": "markdown",
   "id": "88084527",
   "metadata": {},
   "source": [
    "#### Q2. How many files were saved to OUTPUT_FOLDER?"
   ]
  },
  {
   "cell_type": "code",
   "execution_count": null,
   "id": "50071b0c",
   "metadata": {},
   "outputs": [],
   "source": []
  },
  {
   "cell_type": "markdown",
   "id": "ee867454",
   "metadata": {},
   "source": [
    "#### Q3. What is the value of the 'min_sample_split' parameter?"
   ]
  },
  {
   "cell_type": "code",
   "execution_count": null,
   "id": "d0dd0bdf",
   "metadata": {},
   "outputs": [],
   "source": []
  },
  {
   "cell_type": "markdown",
   "id": "7be4a0ba",
   "metadata": {},
   "source": [
    "#### Q4. In addition to backend-store-uri, what else do you need to pass tp properly configure the server?"
   ]
  },
  {
   "cell_type": "code",
   "execution_count": null,
   "id": "8aec4f3c",
   "metadata": {},
   "outputs": [],
   "source": []
  },
  {
   "cell_type": "markdown",
   "id": "268a42e8",
   "metadata": {},
   "source": [
    "#### Q5. What is the best validation RMSE that you got?"
   ]
  },
  {
   "cell_type": "code",
   "execution_count": null,
   "id": "0d08a4a4",
   "metadata": {},
   "outputs": [],
   "source": []
  },
  {
   "cell_type": "markdown",
   "id": "98fe33d0",
   "metadata": {},
   "source": [
    "#### Q6. What is test RMSE of the best model?"
   ]
  },
  {
   "cell_type": "code",
   "execution_count": null,
   "id": "3f053173",
   "metadata": {},
   "outputs": [],
   "source": []
  }
 ],
 "metadata": {
  "kernelspec": {
   "display_name": "Python 3 (ipykernel)",
   "language": "python",
   "name": "python3"
  },
  "language_info": {
   "codemirror_mode": {
    "name": "ipython",
    "version": 3
   },
   "file_extension": ".py",
   "mimetype": "text/x-python",
   "name": "python",
   "nbconvert_exporter": "python",
   "pygments_lexer": "ipython3",
   "version": "3.9.12"
  }
 },
 "nbformat": 4,
 "nbformat_minor": 5
}
