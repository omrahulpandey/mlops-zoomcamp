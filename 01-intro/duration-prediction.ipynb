{
 "cells": [
  {
   "cell_type": "code",
   "execution_count": 1,
   "id": "5bde163c",
   "metadata": {},
   "outputs": [
    {
     "name": "stdout",
     "output_type": "stream",
     "text": [
      "Python 3.9.12\r\n"
     ]
    }
   ],
   "source": [
    "!python -V"
   ]
  },
  {
   "cell_type": "code",
   "execution_count": 2,
   "id": "b25224ad",
   "metadata": {},
   "outputs": [],
   "source": [
    "import pandas as pd"
   ]
  },
  {
   "cell_type": "code",
   "execution_count": 3,
   "id": "f9e5fe7b",
   "metadata": {},
   "outputs": [],
   "source": [
    "# Assuming df is your DataFrame\n",
    "pd.set_option('display.max_columns', None)"
   ]
  },
  {
   "cell_type": "code",
   "execution_count": 4,
   "id": "293ef2f2",
   "metadata": {},
   "outputs": [],
   "source": [
    "import seaborn as sns\n",
    "import matplotlib.pyplot as plt"
   ]
  },
  {
   "cell_type": "code",
   "execution_count": 160,
   "id": "e2969f62",
   "metadata": {},
   "outputs": [],
   "source": [
    "import pickle"
   ]
  },
  {
   "cell_type": "code",
   "execution_count": 142,
   "id": "27f7017b",
   "metadata": {},
   "outputs": [],
   "source": [
    "from sklearn.feature_extraction import DictVectorizer\n",
    "from sklearn.linear_model import LinearRegression\n",
    "from sklearn.linear_model import Lasso\n",
    "from sklearn.linear_model import Ridge\n",
    "\n",
    "from sklearn.metrics import mean_squared_error"
   ]
  },
  {
   "cell_type": "code",
   "execution_count": 123,
   "id": "131178f1",
   "metadata": {},
   "outputs": [],
   "source": [
    "url1 = 'https://d37ci6vzurychx.cloudfront.net/trip-data/green_tripdata_2023-01.parquet'"
   ]
  },
  {
   "cell_type": "code",
   "execution_count": 124,
   "id": "80aca50d",
   "metadata": {},
   "outputs": [],
   "source": [
    "url2 = 'https://d37ci6vzurychx.cloudfront.net/trip-data/green_tripdata_2023-02.parquet'"
   ]
  },
  {
   "cell_type": "code",
   "execution_count": 126,
   "id": "2576dbf3",
   "metadata": {
    "scrolled": false
   },
   "outputs": [],
   "source": [
    "df = pd.read_parquet(url1)\n",
    "\n",
    "df['duration'] = df.lpep_dropoff_datetime - df.lpep_pickup_datetime\n",
    "df.duration = df.duration.apply(lambda td: td.total_seconds()/60)\n",
    "\n",
    "df = df[(df.duration>=1) & (df.duration<=60)]\n",
    "\n",
    "categorical =['PULocationID','DOLocationID']\n",
    "numerical =['trip_distance']\n",
    "\n",
    "df[categorical] = df[categorical].astype(str)"
   ]
  },
  {
   "cell_type": "markdown",
   "id": "95a5778b",
   "metadata": {},
   "source": [
    "#### Dictionary Vectorizer takes dictionary as input"
   ]
  },
  {
   "cell_type": "code",
   "execution_count": 82,
   "id": "003d7928",
   "metadata": {},
   "outputs": [],
   "source": [
    "# COnvert datafromae into dictionary, i.e each row of dataframe is converted into a dictionary.\n",
    "train_dicts = df[categorical + numerical].to_dict(orient = 'records')\n",
    "\n",
    "\n",
    "dv = DictVectorizer()\n",
    "X_train = dv.fit_transform(train_dicts)\n",
    "\n",
    "\n",
    "target = 'duration'\n",
    "Y_train = df1[target].values\n",
    "\n",
    "\n",
    "# Linear Regression\n",
    "lr = LinearRegression()\n",
    "lr.fit(X_train, Y_train)\n",
    "\n",
    "\n",
    "Y_preds = lr.predict(X_train)\n",
    "\n",
    "mean_squared_error(Y_train, y_preds)"
   ]
  },
  {
   "cell_type": "code",
   "execution_count": 91,
   "id": "34f880a6",
   "metadata": {},
   "outputs": [
    {
     "name": "stderr",
     "output_type": "stream",
     "text": [
      "/home/codespace/anaconda3/lib/python3.9/site-packages/seaborn/distributions.py:2619: FutureWarning: `distplot` is a deprecated function and will be removed in a future version. Please adapt your code to use either `displot` (a figure-level function with similar flexibility) or `histplot` (an axes-level function for histograms).\n",
      "  warnings.warn(msg, FutureWarning)\n",
      "/home/codespace/anaconda3/lib/python3.9/site-packages/seaborn/distributions.py:2619: FutureWarning: `distplot` is a deprecated function and will be removed in a future version. Please adapt your code to use either `displot` (a figure-level function with similar flexibility) or `histplot` (an axes-level function for histograms).\n",
      "  warnings.warn(msg, FutureWarning)\n"
     ]
    },
    {
     "data": {
      "text/plain": [
       "<matplotlib.legend.Legend at 0x7b44d55d45b0>"
      ]
     },
     "execution_count": 91,
     "metadata": {},
     "output_type": "execute_result"
    },
    {
     "data": {
      "image/png": "[encoded data removed]",
      "text/plain": [
       "<Figure size 432x288 with 1 Axes>"
      ]
     },
     "metadata": {
      "needs_background": "light"
     },
     "output_type": "display_data"
    }
   ],
   "source": [
    "sns.distplot(y_preds, label= 'prediction')\n",
    "sns.distplot(Y_train, label = 'actual')\n",
    "\n",
    "# Set x-axis limit to focus on the concentrated region\n",
    "plt.xlim(0, 1000)  # Adjust the limits according to your data\n",
    "\n",
    "plt.legend()"
   ]
  },
  {
   "cell_type": "code",
   "execution_count": 92,
   "id": "3f9b4da5",
   "metadata": {},
   "outputs": [
    {
     "data": {
      "text/plain": [
       "5796.848241855864"
      ]
     },
     "execution_count": 92,
     "metadata": {},
     "output_type": "execute_result"
    }
   ],
   "source": []
  },
  {
   "cell_type": "code",
   "execution_count": 127,
   "id": "f4edaf20",
   "metadata": {},
   "outputs": [],
   "source": [
    "def read_dataframe(url):\n",
    "    df = pd.read_parquet(url1)\n",
    "\n",
    "    df['duration'] = df.lpep_dropoff_datetime - df.lpep_pickup_datetime\n",
    "    df.duration = df.duration.apply(lambda td: td.total_seconds()/60)\n",
    "\n",
    "    df = df[(df.duration>=1) & (df.duration<=60)]\n",
    "\n",
    "    categorical =['PULocationID','DOLocationID']\n",
    "    numerical =['trip_distance']\n",
    "\n",
    "    df[categorical] = df[categorical].astype(str)\n",
    "\n",
    "    return df"
   ]
  },
  {
   "cell_type": "code",
   "execution_count": 128,
   "id": "e1fa8836",
   "metadata": {},
   "outputs": [],
   "source": [
    "df_train = read_dataframe(url1)\n",
    "df_val = read_dataframe(url2)"
   ]
  },
  {
   "cell_type": "code",
   "execution_count": 129,
   "id": "252d39fd",
   "metadata": {
    "scrolled": false
   },
   "outputs": [
    {
     "data": {
      "text/plain": [
       "(65946, 65946)"
      ]
     },
     "execution_count": 129,
     "metadata": {},
     "output_type": "execute_result"
    }
   ],
   "source": [
    "len(df_train), len(df_val)"
   ]
  },
  {
   "cell_type": "code",
   "execution_count": 149,
   "id": "8b36e223",
   "metadata": {},
   "outputs": [],
   "source": [
    "df_train['PU_DO'] = df_train['PULocationID'] +'_'+ df_train['DOLocationID']\n",
    "df_val['PU_DO'] = df_val['PULocationID'] +'_'+ df_val['DOLocationID']"
   ]
  },
  {
   "cell_type": "code",
   "execution_count": 150,
   "id": "e49409ef",
   "metadata": {},
   "outputs": [],
   "source": [
    "categorical = ['PU_DO'] #['PULocationID','DOLocationID']\n",
    "numerical =['trip_distance']\n",
    "\n",
    "dv = DictVectorizer()\n",
    "\n",
    "train_dicts = df_train[categorical + numerical].to_dict(orient = 'records')\n",
    "X_train = dv.fit_transform(train_dicts)\n",
    "\n",
    "val_dicts = df_val[categorical + numerical].to_dict(orient = 'records')\n",
    "X_val = dv.fit_transform(val_dicts)"
   ]
  },
  {
   "cell_type": "code",
   "execution_count": 151,
   "id": "b20f7598",
   "metadata": {},
   "outputs": [],
   "source": [
    "target = 'duration'\n",
    "Y_train = df_train[target].values\n",
    "Y_val = df_val[target].values"
   ]
  },
  {
   "cell_type": "code",
   "execution_count": 158,
   "id": "bfd0943a",
   "metadata": {},
   "outputs": [
    {
     "data": {
      "text/plain": [
       "4.754276878808011"
      ]
     },
     "execution_count": 158,
     "metadata": {},
     "output_type": "execute_result"
    }
   ],
   "source": [
    "# Linear Regression\n",
    "lr = LinearRegression()\n",
    "lr.fit(X_train, Y_train)\n",
    "\n",
    "Y_preds = lr.predict(X_val)\n",
    "\n",
    "mean_squared_error(Y_val, Y_preds, squared=False)"
   ]
  },
  {
   "cell_type": "code",
   "execution_count": 155,
   "id": "f448ab9a",
   "metadata": {},
   "outputs": [
    {
     "data": {
      "text/plain": [
       "4.937788083312245"
      ]
     },
     "execution_count": 155,
     "metadata": {},
     "output_type": "execute_result"
    }
   ],
   "source": [
    "lr = Lasso(alpha=0.0001)\n",
    "lr.fit(X_train, Y_train)\n",
    "\n",
    "Y_preds = lr.predict(X_val)\n",
    "\n",
    "mean_squared_error(Y_val, Y_preds, squared=False)"
   ]
  },
  {
   "cell_type": "code",
   "execution_count": 156,
   "id": "a7fef551",
   "metadata": {
    "scrolled": true
   },
   "outputs": [
    {
     "data": {
      "text/plain": [
       "5.704636733905528"
      ]
     },
     "execution_count": 156,
     "metadata": {},
     "output_type": "execute_result"
    }
   ],
   "source": [
    "lr = Ridge()\n",
    "lr.fit(X_train, Y_train)\n",
    "\n",
    "Y_preds = lr.predict(X_val)\n",
    "\n",
    "mean_squared_error(Y_val, Y_preds, squared=False)"
   ]
  },
  {
   "cell_type": "code",
   "execution_count": 157,
   "id": "36c94a90",
   "metadata": {},
   "outputs": [
    {
     "data": {
      "text/plain": [
       "'/workspaces/mlops-zoomcamp/01-intro'"
      ]
     },
     "execution_count": 157,
     "metadata": {},
     "output_type": "execute_result"
    }
   ],
   "source": [
    "%pwd"
   ]
  },
  {
   "cell_type": "code",
   "execution_count": 161,
   "id": "7f14ddcb",
   "metadata": {},
   "outputs": [],
   "source": [
    "with open('models/lin_reg.bin','wb') as f_out:\n",
    "    pickle.dump((dv, lr), f_out)"
   ]
  },
  {
   "cell_type": "code",
   "execution_count": null,
   "id": "ed69a3e1",
   "metadata": {},
   "outputs": [],
   "source": []
  }
 ],
 "metadata": {
  "kernelspec": {
   "display_name": "Python 3 (ipykernel)",
   "language": "python",
   "name": "python3"
  },
  "language_info": {
   "codemirror_mode": {
    "name": "ipython",
    "version": 3
   },
   "file_extension": ".py",
   "mimetype": "text/x-python",
   "name": "python",
   "nbconvert_exporter": "python",
   "pygments_lexer": "ipython3",
   "version": "3.9.12"
  }
 },
 "nbformat": 4,
 "nbformat_minor": 5
}
